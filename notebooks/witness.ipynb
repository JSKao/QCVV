{
 "cells": [
  {
   "cell_type": "code",
   "execution_count": 2,
   "id": "5879113d",
   "metadata": {},
   "outputs": [],
   "source": [
    "import sys\n",
    "sys.path.append('../src')\n",
    "import numpy as np"
   ]
  },
  {
   "cell_type": "markdown",
   "id": "ef523e35",
   "metadata": {},
   "source": [
    "# Main Problems in Quantum Information\n",
    "\n",
    "## 1. Motivation and Key Questions\n",
    "\n",
    "- Boundary of entanglement\n",
    "- Entanglement measures and classification (concurrence, entropy, negativity, etc.)\n",
    "- Reversibility and noise tolerance of quantum channels\n",
    "- Resource theory boundaries (magic, coherence, non-Gaussianity)\n",
    "- Quantum vs classical complexity\n",
    "- Bell inequalities and nonlocality\n",
    "\n",
    "---\n",
    "\n",
    "## 2. Goal\n",
    "\n",
    "**[Completed]**\n",
    "- Understand the mathematical and physical meaning of witnesses and the separable cone.\n",
    "- Automate PPT witness generation via SDP.\n",
    "- Compute violation for all bipartitions in multipartite states.\n",
    "- Build a scalable numerical pipeline for future extensions (e.g., product state sampling, DPS hierarchy).\n",
    "\n",
    "---\n",
    "\n",
    "## 3. Background\n",
    "\n",
    "**[Completed]**\n",
    "- Separable states: classical-quantum boundary.\n",
    "- Entanglement boundary: definition and significance.\n",
    "- Physical and application meaning.\n",
    "- Tools: PPT criterion, entanglement witness, DPS hierarchy, Bell inequalities, etc.\n",
    "\n",
    "---\n",
    "\n",
    "## 4. PPT Criterion\n",
    "\n",
    "**[Completed]**\n",
    "- Principle and implementation.\n",
    "- Example: separable state vs Bell state.\n",
    "\n",
    "```python\n",
    "# Example: PPT criterion for separable and Bell states"
   ]
  },
  {
   "cell_type": "markdown",
   "id": "6fc2846a",
   "metadata": {},
   "source": [
    "## Separable States and the Entanglement Boundary\n",
    "\n",
    "A separable state defines the boundary between classical and quantum correlations. A bipartite quantum state is separable if it can be written as a classical mixture of product states:\n",
    "$$\n",
    "\\sigma = \\sum_i p_i \\, \\rho_A^{(i)} \\otimes \\rho_B^{(i)}\n",
    "$$\n",
    "All correlations in separable states can be explained by classical probability, with no genuine quantum entanglement. In contrast, entangled states possess purely quantum correlations, which serve as a resource in quantum information science.\n",
    "\n",
    "The set of separable states forms the baseline for entanglement—any state outside this set is considered entangled. Many tools in quantum information, such as entanglement witnesses and entanglement measures, are defined relative to the set of separable states. Clearly drawing this boundary is essential for determining whether a state possesses genuine quantum entanglement.\n",
    "\n",
    "**Physical and Application Significance:**\n",
    "- **Experiment:** To demonstrate that a state is entangled, one must rule out the possibility that it is merely separable.\n",
    "- **Security:** In quantum cryptography, only entangled states can guarantee the security of certain protocols.\n",
    "- **Resource Theory:** Separable states are considered \"free\" (costless), while entanglement is a valuable resource for quantum tasks."
   ]
  },
  {
   "cell_type": "markdown",
   "id": "9e1fc06e",
   "metadata": {},
   "source": [
    "### Main Tools for Entanglement Detection and Entanglement Boundaries\n",
    "\n",
    "- **PPT (Positive Partial Transpose) Criterion:** The simplest and most widely used numerical tool. For 2x2 and 2x3 systems, it is both necessary and sufficient for separability; for higher dimensions, it is only necessary. The PPT cone is a convex set containing all separable states and some entangled states (bound entanglement).\n",
    "- **Entanglement Witness:** A Hermitian operator designed as a \"lie detector\" for specific states, able to detect some entangled states. Can be constructed automatically via semidefinite programming (SDP). Witnesses are designed to distinguish between the separable cone and its relaxations (e.g., PPT cone).\n",
    "- **DPS Hierarchy (Doherty-Parrilo-Spedalieri):** A sequence of increasingly strict SDP relaxations that approximate the separable cone. Each level ($k$-extendibility) imposes stronger constraints; as $k \\to \\infty$, the hierarchy converges to the true separable set. Computational cost grows rapidly with $k$.\n",
    "- **Product State Sampling:** For large or multipartite systems, one can numerically sample many random product states $|\\psi_A\\rangle \\otimes |\\psi_B\\rangle$ and require $W$ to be positive on these. This provides a practical, though not rigorous, numerical test for entanglement.\n",
    "- **Bell Inequalities and Nonlocality Tests:** Used to test for nonlocality, which indirectly proves entanglement. Not all entangled states violate a Bell inequality.\n",
    "- **Advanced Criteria (Tensor Rank, Realignment, CCNR, etc.):** Various mathematical tools providing necessary/sufficient conditions for entanglement in different scenarios.\n",
    "\n",
    "These tools are often used in combination to characterize the boundary between separable and entangled states, both theoretically and numerically. In practice, relaxations like the PPT cone or DPS hierarchy are used for numerical detection, since the separable cone cannot be described by simple SDP constraints."
   ]
  },
  {
   "cell_type": "markdown",
   "id": "f1dfb8c6",
   "metadata": {},
   "source": [
    "### Entanglement Witness\n",
    "\n",
    "An **entanglement witness** is a Hermitian operator $W$ constructed to detect entanglement in a quantum state $\\rho$.\n",
    "\n",
    "- For all separable states $\\sigma$, $\\mathrm{Tr}[W\\sigma] \\geq 0$.\n",
    "- For at least one entangled state $\\rho$, $\\mathrm{Tr}[W\\rho] < 0$.\n",
    "\n",
    "Intuitively, $W$ acts as a \"lie detector\": it never signals for honest (separable) states, but gives a negative value for some entangled (lying) states.\n",
    "\n",
    "Witnesses can be constructed analytically for specific states, or automatically via semidefinite programming (SDP).\n",
    "\n",
    "---\n",
    "\n",
    "### The Separable Cone and PPT Cone\n",
    "\n",
    "- The set of all separable states forms a **convex cone** in the space of density matrices, but its mathematical structure is highly complex.\n",
    "- The **PPT cone** (Positive Partial Transpose) is a larger, simpler set that contains all separable states and some entangled states (bound entanglement). It is efficiently characterized by SDP constraints.\n",
    "- In practice, relaxations like the PPT cone or DPS hierarchy are used for numerical detection, since the separable cone cannot be described by simple SDP constraints.\n",
    "\n",
    "Summary:\n",
    "- **Separable cone:** All non-entangled states; complex shape, hard to describe by SDP.\n",
    "- **PPT cone:** Contains the separable cone; simple SDP description.\n",
    "- **Witness $W$:** Designed to distinguish between these sets and numerically detect entanglement."
   ]
  },
  {
   "cell_type": "markdown",
   "id": "64273a28",
   "metadata": {},
   "source": [
    "### Mathematical Formulation and SDP Construction\n",
    "\n",
    "To construct an optimal entanglement witness for a target state $\\rho$ using SDP:\n",
    "- $W$ is Hermitian.\n",
    "- $\\mathrm{Tr}[W] = 1$ (normalization, optional).\n",
    "- For all separable states $\\sigma$, $\\mathrm{Tr}[W\\sigma] \\geq 0$.\n",
    "- For the target $\\rho$, $\\mathrm{Tr}[W\\rho]$ as small as possible (ideally $<0$).\n",
    "\n",
    "Since the set of separable states is hard to describe, we often relax the constraint to require $W$ to be positive on the PPT cone (i.e., $W^{T_B} \\succeq 0$), or use higher levels of the DPS hierarchy. This leads to a semidefinite program (SDP):\n",
    "- Minimize $\\mathrm{Tr}[W\\rho]$\n",
    "- Subject to: $W$ Hermitian, $\\mathrm{Tr}[W]=1$, $W^{T_B} \\succeq 0$ (or other relaxations)\n",
    "\n",
    "If the minimum is negative, $\\rho$ is certified to be entangled (outside the chosen cone). This approach can be automated using SDP solvers such as CVXPY.\n",
    "\n",
    "**Summary of SDP Workflow:**\n",
    "1. Choose a relaxation cone (PPT or DPS $k$-extendible cone).\n",
    "2. Write SDP constraints for the cone (e.g., partial transpose, extension symmetry).\n",
    "3. Design the witness SDP (find $W$ in the dual cone minimizing $\\mathrm{Tr}[W\\rho]$).\n",
    "4. Solve numerically (cvxpy, QETLAB, etc.).\n",
    "5. If witness expectation $<0$, $\\rho$ is entangled."
   ]
  },
  {
   "cell_type": "markdown",
   "id": "3ec66247",
   "metadata": {},
   "source": [
    "---\n",
    "\n",
    "### Beyond PPT: DPS Hierarchy and Product State Sampling\n",
    "\n",
    "- **DPS Hierarchy (Doherty-Parrilo-Spedalieri):**\n",
    "  A sequence of increasingly strict SDP relaxations that approximate the separable cone. Each level ($k$-extendibility) imposes stronger constraints; as $k \\to \\infty$, the hierarchy converges to the true separable set. Computational cost grows rapidly with $k$.\n",
    "- **Product State Sampling (Practical Approximation):**\n",
    "  For large or multipartite systems, one can numerically sample many random product states $|\\psi_A\\rangle \\otimes |\\psi_B\\rangle$ and require $W$ to be positive on these. This provides a practical, though not rigorous, numerical test for entanglement.\n",
    "\n",
    "**Summary:**\n",
    "- PPT-based SDP is the standard tool for small systems.\n",
    "- DPS hierarchy gives stronger (but more expensive) relaxations.\n",
    "- Product state sampling is useful for large/multipartite systems.\n",
    "\n",
    "For practical implementation, see the code examples below using CVXPY."
   ]
  },
  {
   "cell_type": "markdown",
   "id": "b77207be",
   "metadata": {},
   "source": [
    "### 1. PPT(Peres–Horodecki criterion) Criterion\n",
    "#### (a) Two-body system（seperable state、Bell state）"
   ]
  },
  {
   "cell_type": "code",
   "execution_count": 3,
   "id": "9e856dbc",
   "metadata": {},
   "outputs": [
    {
     "name": "stdout",
     "output_type": "stream",
     "text": [
      "seperable state PPT: True\n",
      "Bell state PPT: False\n"
     ]
    }
   ],
   "source": [
    "from entanglement_analysis import is_separable_PPT\n",
    "\n",
    "# Pauli projectors\n",
    "P0 = np.array([[1,0],[0,0]])\n",
    "P1 = np.array([[0,0],[0,1]])\n",
    "\n",
    "# seperable state\n",
    "rho_sep = 0.5 * np.kron(P0, P0) + 0.5 * np.kron(P1, P1)\n",
    "# Bell state\n",
    "psi_ent = (np.kron([1,0],[1,0]) + np.kron([0,1],[0,1]))/np.sqrt(2)\n",
    "rho_ent = np.outer(psi_ent, psi_ent.conj())\n",
    "\n",
    "dims = [2,2]\n",
    "\n",
    "print(\"seperable state PPT:\", is_separable_PPT(rho_sep, dims))  # should be True\n",
    "print(\"Bell state PPT:\", is_separable_PPT(rho_ent, dims))   # should be False"
   ]
  },
  {
   "cell_type": "markdown",
   "id": "68927fb3",
   "metadata": {},
   "source": [
    "#### (b) Many-body system（GHZ、Cluster、Graph state）"
   ]
  },
  {
   "cell_type": "code",
   "execution_count": 4,
   "id": "234bd26d",
   "metadata": {},
   "outputs": [
    {
     "name": "stdout",
     "output_type": "stream",
     "text": [
      "Results of PPT criteria for each partition of GHZ state ：\n",
      "Partition ((0,), (1, 2)): PPT = False\n",
      "Partition ((1,), (0, 2)): PPT = False\n",
      "Partition ((2,), (0, 1)): PPT = False\n",
      "Results of PPT criteria for each partition of 4-qubit cluster state:\n",
      "Partition ((0,), (1, 2, 3)): PPT = False\n",
      "Partition ((1,), (0, 2, 3)): PPT = False\n",
      "Partition ((2,), (0, 1, 3)): PPT = False\n",
      "Partition ((3,), (0, 1, 2)): PPT = False\n",
      "Partition ((0, 1), (2, 3)): PPT = False\n",
      "Partition ((0, 2), (1, 3)): PPT = False\n",
      "Partition ((0, 3), (1, 2)): PPT = False\n",
      "Partition ((1, 2), (0, 3)): PPT = False\n",
      "Partition ((1, 3), (0, 2)): PPT = False\n",
      "Partition ((2, 3), (0, 1)): PPT = False\n",
      "Is 4-qubit cluster state genuine multipartite entangled: True\n",
      "Results of PPT criteria for each partition of 5-qubit star graph state:\n",
      "Partition ((0,), (1, 2, 3, 4)): PPT = False\n",
      "Partition ((1,), (0, 2, 3, 4)): PPT = False\n",
      "Partition ((2,), (0, 1, 3, 4)): PPT = False\n",
      "Partition ((3,), (0, 1, 2, 4)): PPT = False\n",
      "Partition ((4,), (0, 1, 2, 3)): PPT = False\n",
      "Partition ((0, 1), (2, 3, 4)): PPT = False\n",
      "Partition ((0, 2), (1, 3, 4)): PPT = False\n",
      "Partition ((0, 3), (1, 2, 4)): PPT = False\n",
      "Partition ((0, 4), (1, 2, 3)): PPT = False\n",
      "Partition ((1, 2), (0, 3, 4)): PPT = False\n",
      "Partition ((1, 3), (0, 2, 4)): PPT = False\n",
      "Partition ((1, 4), (0, 2, 3)): PPT = False\n",
      "Partition ((2, 3), (0, 1, 4)): PPT = False\n",
      "Partition ((2, 4), (0, 1, 3)): PPT = False\n",
      "Partition ((3, 4), (0, 1, 2)): PPT = False\n",
      "Is 5-qubit star graph state genuine multipartite entangled: True\n"
     ]
    }
   ],
   "source": [
    "from state_utils import ghz_state,cluster_state, graph_state\n",
    "from entanglement_analysis import all_bipartition_PPT_checks, is_genuine_multipartite_entangled\n",
    "\n",
    "N = 3\n",
    "psi = ghz_state(N)\n",
    "rho = np.outer(psi, psi.conj())\n",
    "\n",
    "ppt_results = all_bipartition_PPT_checks(rho, dims=[2]*N)\n",
    "print(\"Results of PPT criteria for each partition of GHZ state ：\")\n",
    "\n",
    "for part, is_ppt in ppt_results.items():\n",
    "    print(f\"Partition {part}: PPT = {is_ppt}\")\n",
    "    \n",
    "N = 4\n",
    "psi = cluster_state(N)\n",
    "rho = np.outer(psi, psi.conj())\n",
    "ppt_results = all_bipartition_PPT_checks(rho, dims=[2]*N)\n",
    "print(\"Results of PPT criteria for each partition of 4-qubit cluster state:\")\n",
    "for part, is_ppt in ppt_results.items():\n",
    "    print(f\"Partition {part}: PPT = {is_ppt}\")\n",
    "\n",
    "is_gme = is_genuine_multipartite_entangled(psi, N)\n",
    "print(\"Is 4-qubit cluster state genuine multipartite entangled:\", is_gme)    \n",
    "\n",
    "# Star graph adjacency matrix\n",
    "#（中心 0 連到 1,2,3,4，其餘不連）\n",
    "N = 5\n",
    "adj = np.zeros((N, N), dtype=int)\n",
    "for i in range(1, N):\n",
    "    adj[0, i] = adj[i, 0] = 1\n",
    "\n",
    "psi = graph_state(adj)\n",
    "rho = np.outer(psi, psi.conj())\n",
    "\n",
    "ppt_results = all_bipartition_PPT_checks(rho, dims=[2]*N)\n",
    "print(\"Results of PPT criteria for each partition of 5-qubit star graph state:\")\n",
    "for part, is_ppt in ppt_results.items():\n",
    "    print(f\"Partition {part}: PPT = {is_ppt}\")\n",
    "\n",
    "is_gme = is_genuine_multipartite_entangled(psi, N)\n",
    "print(\"Is 5-qubit star graph state genuine multipartite entangled:\", is_gme)"
   ]
  },
  {
   "cell_type": "markdown",
   "id": "bf960d03",
   "metadata": {},
   "source": [
    "#### (c) Horodecki Bound Entangled State"
   ]
  },
  {
   "cell_type": "code",
   "execution_count": 5,
   "id": "e383aaf4",
   "metadata": {},
   "outputs": [
    {
     "name": "stdout",
     "output_type": "stream",
     "text": [
      "Horodecki bound entangled state PPT: True\n"
     ]
    }
   ],
   "source": [
    "# Horodecki 3x3 Bound Entangled State\n",
    "def horodecki_bound_entangled_state(a=0.5):\n",
    "    # 3x3 system, 9x9 matrix\n",
    "    rho = np.zeros((9,9), dtype=np.float64)\n",
    "    idx = lambda i,j: 3*i + j\n",
    "    # Fill the matrix\n",
    "    for i in range(3):\n",
    "        rho[idx(i,i), idx(i,i)] = a\n",
    "    for i in range(3):\n",
    "        for j in range(3):\n",
    "            if i != j:\n",
    "                rho[idx(i,j), idx(i,j)] = a\n",
    "    for i in range(3):\n",
    "        for j in range(3):\n",
    "            if i == j:\n",
    "                rho[idx(i,i), idx(j,j)] += a\n",
    "    # Diagonal last element\n",
    "    rho[8,8] = 1\n",
    "    # Cross terms\n",
    "    for i in range(3):\n",
    "        rho[idx(i,i), idx((i+1)%3,(i+1)%3)] = a\n",
    "        rho[idx((i+1)%3,(i+1)%3), idx(i,i)] = a\n",
    "    # Normalization\n",
    "    rho = rho / (8*a + 1)\n",
    "    return rho\n",
    "\n",
    "rho = horodecki_bound_entangled_state(a=0.5)\n",
    "dims = [3,3]\n",
    "print(\"Horodecki bound entangled state PPT:\", is_separable_PPT(rho, dims))"
   ]
  },
  {
   "cell_type": "markdown",
   "id": "383b961e",
   "metadata": {},
   "source": [
    "### 2. optimal_PPT_witness\n",
    "\n",
    "The optimal_entanglement_witness SDP only requires $W$ to be Hermitian, positive semidefinite, and $\\mathrm{Tr}[W]=1$ (i.e., $W$ is a valid density matrix). This means it can only detect states $\\rho$ that are not positive semidefinite—but all physical quantum states are positive semidefinite by definition.\n",
    "Therefore, this witness cannot detect any entanglement in physical states. It is just a mathematical example, not a practical entanglement witness.\n",
    "\n",
    "In contrast, the PPT witness (as implemented in optimal_PPT_witness) requires $W^{T_B} \\succeq 0$, i.e., $W$ is in the dual cone of the PPT cone. This allows the SDP to detect all states that are outside the PPT cone (i.e., NPT entangled states), which includes all entangled states detectable by the PPT criterion.\n",
    "\n",
    "However, even the PPT witness cannot detect PPT entangled states (bound entanglement), such as the Horodecki state. Only more advanced methods (e.g., higher levels of the DPS hierarchy) can detect these.\n",
    "\n",
    "\n",
    "\n",
    "#### (a) Bell state、Horodecki state"
   ]
  },
  {
   "cell_type": "code",
   "execution_count": 6,
   "id": "ad7311f6",
   "metadata": {},
   "outputs": [
    {
     "name": "stdout",
     "output_type": "stream",
     "text": [
      "SDP status: optimal\n",
      "Witness value Tr(W ρ): -0.5000008959445141\n",
      "Optimal PPT witness value for Bell state: -0.5000008959445141\n",
      "SDP status: optimal\n",
      "Witness value Tr(W ρ): -1.3370179694632833e-07\n",
      "Optimal PPT witness value for Horodecki bound entangled state: -1.3370179694632833e-07\n"
     ]
    },
    {
     "name": "stderr",
     "output_type": "stream",
     "text": [
      "/usr/local/Caskroom/miniconda/base/envs/qiskit-env/lib/python3.10/site-packages/cvxpy/reductions/solvers/solving_chain_utils.py:41: UserWarning: The problem has an expression with dimension greater than 2. Defaulting to the SCIPY backend for canonicalization.\n",
      "  warnings.warn(UserWarning(\n",
      "/usr/local/Caskroom/miniconda/base/envs/qiskit-env/lib/python3.10/site-packages/scs/__init__.py:83: UserWarning: Converting A to a CSC (compressed sparse column) matrix; may take a while.\n",
      "  warn(\n"
     ]
    }
   ],
   "source": [
    "from entanglement_analysis import optimal_PPT_witness, partial_transpose_cvx\n",
    "# Example: Find optimal PPT witness for Bell state\n",
    "psi_ent = (np.kron([1,0],[1,0]) + np.kron([0,1],[0,1]))/np.sqrt(2)\n",
    "rho_ent = np.outer(psi_ent, psi_ent.conj())\n",
    "dims = [2,2]\n",
    "\n",
    "W, witness_val = optimal_PPT_witness(rho_ent, dims)\n",
    "print(\"Optimal PPT witness value for Bell state:\", witness_val)\n",
    "\n",
    "# Example: Find optimal PPT witness for Horodecki bound entangled state\n",
    "rho_ent = horodecki_bound_entangled_state(a=0.5)\n",
    "dims = [3,3]\n",
    "\n",
    "W, witness_val = optimal_PPT_witness(rho_ent, dims)\n",
    "print(\"Optimal PPT witness value for Horodecki bound entangled state:\", witness_val)"
   ]
  },
  {
   "cell_type": "markdown",
   "id": "a955579a",
   "metadata": {},
   "source": [
    "### optimal_entanglement_witness (General Witness)\n",
    "\n",
    "**Constraints:**\n",
    "- $W$ is Hermitian\n",
    "- $W \\succeq 0$ (positive semidefinite)\n",
    "- $\\mathrm{Tr}[W] = 1$\n",
    "\n",
    "Mathematically, this only requires $W$ to be a density matrix (positive semidefinite, trace = 1).\n",
    "\n",
    "**Detection capability:** This can only detect cases where $\\rho$ is not positive semidefinite (which does not occur for physical quantum states). For all physical density matrices (which are positive semidefinite), this witness cannot detect entanglement.\n",
    "\n",
    "**Nature:** This is just a mathematical example, not a practical entanglement witness.\n",
    "\n",
    "### optimal_PPT_witness (PPT Witness)\n",
    "\n",
    "**Constraints:**\n",
    "- $W$ is Hermitian\n",
    "- $W^{T_B} \\succeq 0$ (partial transpose with respect to subsystem B is also positive semidefinite)\n",
    "- $\\mathrm{Tr}[W] = 1$\n",
    "\n",
    "Mathematically, this requires $W$ to belong to the dual cone of the PPT cone, and it can detect all states that are outside the PPT cone.\n",
    "\n",
    "**Detection capability:** This can detect all entangled states that are detectable by the PPT criterion (i.e., all NPT entangled states, but not bound entanglement).\n",
    "\n",
    "**Nature:** This is a practical and commonly used numerical entanglement witness.\n",
    "\n",
    "You can use `sdp_witness_all_bipartitions_PPT` to automatically compute the optimal witness value for all bipartitions of a multipartite state, observe and compare the results.\n",
    "\n",
    "Compare the performance of the witness for different types of states (separable, entangled, biseparable, GME). Try designing your own witness, or use SDP to generate one automatically."
   ]
  },
  {
   "cell_type": "markdown",
   "id": "a12aabb2",
   "metadata": {},
   "source": [
    "## SDP (Semi-Definite Programming)\n",
    "\n",
    "SDP is a mathematical optimization tool that minimizes or maximizes an objective function subject to matrix positive semidefinite constraints (e.g., $X \\succeq 0$ means all eigenvalues of $X$ are non-negative).\n",
    "- **Well-posed constraints:** Constraints that can be directly written as mathematical expressions, such as $X$ being positive semidefinite or $\\mathrm{Tr}[X] = 1$, are easily handled by SDP solvers like cvxpy.\n",
    "\n",
    "**Why the separable cone cannot be simply described by SDP:**\n",
    "The separable cone is the set of all separable states, defined as:\n",
    "$$ \\sigma = \\sum_i p_i \\, \\rho_A^{(i)} \\otimes \\rho_B^{(i)} $$\n",
    "This set is mathematically very complex and cannot be fully described by a finite set of simple matrix inequalities or linear equations. In other words, you cannot \"enclose\" all separable states using only a finite number of simple mathematical constraints."
   ]
  },
  {
   "cell_type": "markdown",
   "id": "76506452",
   "metadata": {},
   "source": [
    "## SDP: Theory and Numerical Workflow\n",
    "\n",
    "### 1. The Challenge of Separability Criteria\n",
    "The set of separable states $\\mathcal{S}$ is defined as all $\\sigma = \\sum_i p_i \\rho_A^{(i)} \\otimes \\rho_B^{(i)}$. $\\mathcal{S}$ is a convex cone, but cannot be exactly described by a finite set of linear or semidefinite constraints, so it cannot be directly checked by SDP.\n",
    "\n",
    "### 2. PPT Cone (Positive Partial Transpose)\n",
    "The PPT cone $\\mathcal{P}$ contains all $\\rho$ such that $\\rho^{T_B} \\succeq 0$. $\\mathcal{S} \\subset \\mathcal{P}$, but $\\mathcal{P}$ also contains some entangled states (bound entangled states). The PPT condition can be directly written as an SDP constraint, making it the most common relaxation.\n",
    "\n",
    "### 3. DPS Hierarchy (Doherty-Parrilo-Spedalieri)\n",
    "The DPS hierarchy is a sequence of increasingly strict SDP relaxations that gradually approach $\\mathcal{S}$. The core idea: if $\\rho$ is separable, it must have $k$-extendibility (can be symmetrically extended $k$ times on a subsystem). As $k\\to\\infty$, the hierarchy converges to the true separable cone.\n",
    "\n",
    "### 4. SDP Witness Design\n",
    "For any cone $C$ (e.g., PPT cone, DPS cone), a Hermitian operator $W$ in the dual cone $C^*$ with $\\mathrm{Tr}[W\\rho]<0$ certifies that $\\rho\\notin C$. The SDP goal: find $W$ in $C^*$ that minimizes $\\mathrm{Tr}[W\\rho]$; if the result is $<0$, then $\\rho$ is not in $C$.\n",
    "\n",
    "### Numerical Implementation Workflow\n",
    "1. **PPT SDP Implementation**\n",
    "   - Variable: $W$ (Hermitian)\n",
    "   - Constraints: $\\mathrm{Tr}[W]=1$, $W^{T_B} \\succeq 0$\n",
    "   - Objective: Minimize $\\mathrm{Tr}[W\\rho]$\n",
    "   - Tools: cvxpy, QETLAB, etc.\n",
    "2. **DPS SDP Implementation ($k$-extendibility)**\n",
    "   - Variable: $\\tilde{\\rho}$ ($k$-extension of $\\rho$)\n",
    "   - Constraints: $\\tilde{\\rho} \\succeq 0$, $\\mathrm{Tr}_{2,\\ldots,k}[\\tilde{\\rho}] = \\rho$, $\\tilde{\\rho}$ is symmetric, $\\tilde{\\rho}^{T_{B_j}} \\succeq 0$ for each copy\n",
    "   - Objective: Feasibility check or witness design\n",
    "   - Higher $k$ increases computational cost exponentially\n",
    "3. **Summary**\n",
    "   - Choose a relaxation cone (PPT or DPS $k$-extendible cone)\n",
    "   - Write SDP constraints for the cone\n",
    "   - Design the witness SDP (find $W$ in the dual cone minimizing $\\mathrm{Tr}[W\\rho]$)\n",
    "   - Solve numerically (cvxpy, QETLAB, etc.)\n",
    "   - If witness expectation $<0$, $\\rho$ is entangled."
   ]
  },
  {
   "cell_type": "markdown",
   "id": "a20b49d0",
   "metadata": {},
   "source": [
    "### Implementation: 2-Extendibility (DPS Hierarchy $k=2$) for Bipartite Systems\n",
    "\n",
    "**Core concept:**\n",
    "A bipartite state $\\rho_{AB}$ is $k$-extendible (with respect to subsystem $B$) if there exists a larger density matrix $\\tilde{\\rho}_{AB_1B_2...B_k}$ such that:\n",
    "- $\\tilde{\\rho}$ is symmetric under permutations of $B_1, ..., B_k$\n",
    "- Tracing out $B_2, ..., B_k$ returns the original $\\rho_{AB}$:\n",
    "$$ \\mathrm{Tr}_{B_2,...,B_k}[\\tilde{\\rho}] = \\rho_{AB} $$\n",
    "\n",
    "**Physical meaning:**\n",
    "If $\\rho_{AB}$ is separable, it can be \"cloned\" into $k$ symmetric copies of $B$ without violating quantum mechanics. Entangled states cannot be extended in this way.\n",
    "\n",
    "**DPS hierarchy:**\n",
    "- $k=1$: equivalent to the PPT cone\n",
    "- $k=2,3,...$: each higher level imposes stricter constraints, excluding more entangled states\n",
    "- As $k\\to\\infty$, the hierarchy converges to the separable cone\n",
    "\n",
    "**Intuitive analogy:**\n",
    "- Separable states: you can symmetrically clone subsystem $B$ many times, and all copies are identical and physical.\n",
    "- Entangled states: you cannot do this, as it would violate the structure of quantum mechanics (not directly the no-cloning theorem, but a related principle)."
   ]
  },
  {
   "cell_type": "markdown",
   "id": "ce3f6c0e",
   "metadata": {},
   "source": [
    "Given a density matrix $\\rho_{AB}$ of dimension $d_A \\times d_B$, we consider 2-extendibility with respect to subsystem $B$.\n",
    "\n",
    "### Objective\n",
    "\n",
    "Given $\\rho_{AB}$, determine whether there exists an extension $\\tilde{\\rho}_{AB_1B_2}$ such that:\n",
    "\n",
    "$\\tilde{\\rho} \\succeq 0$\n",
    "\n",
    "$\\mathrm{Tr}_{B_2}[\\tilde{\\rho}] = \\rho_{AB}$\n",
    "\n",
    "$\\tilde{\\rho}$ is symmetric under permutation of $B_1$ and $B_2$ (permutation symmetric)"
   ]
  },
  {
   "cell_type": "code",
   "execution_count": 7,
   "id": "771344dd",
   "metadata": {},
   "outputs": [
    {
     "name": "stderr",
     "output_type": "stream",
     "text": [
      "/usr/local/Caskroom/miniconda/base/envs/qiskit-env/lib/python3.10/site-packages/cvxpy/reductions/solvers/solving_chain_utils.py:30: UserWarning: The problem includes expressions that don't support CPP backend. Defaulting to the SCIPY backend for canonicalization.\n",
      "  warnings.warn(UserWarning(\n"
     ]
    },
    {
     "name": "stdout",
     "output_type": "stream",
     "text": [
      "Horodecki 3x3 态 2-extendible? False\n"
     ]
    }
   ],
   "source": [
    "import cvxpy as cp\n",
    "import numpy as np\n",
    "from entanglement_analysis import is_2_extendible\n",
    "\n",
    "\n",
    "def partial_trace_B2(rho, dA, dB):\n",
    "    # rho: (dA*dB*dB, dA*dB*dB)\n",
    "    # trace over the last B (B2)\n",
    "    rho = rho.reshape((dA, dB, dB, dA, dB, dB))\n",
    "    # trace over axis 2 and 5 (B2)\n",
    "    return np.einsum('ijklpq->ijlp', rho).reshape((dA*dB, dA*dB))\n",
    "\n",
    "def symmetrize_B1B2(rho, dA, dB):\n",
    "    # symmetrize over B1<->B2\n",
    "    rho = rho.reshape((dA, dB, dB, dA, dB, dB))\n",
    "    rho_swap = np.swapaxes(rho, 1, 2)\n",
    "    rho_swap = np.swapaxes(rho_swap, 4, 5)\n",
    "    rho_sym = (rho + rho_swap) / 2\n",
    "    return rho_sym.reshape((dA*dB*dB, dA*dB*dB))\n",
    "\n",
    "\n",
    "# 測試 Horodecki 3x3 态\n",
    "rho_horo = horodecki_bound_entangled_state(a=0.5)\n",
    "dA = dB = 3\n",
    "print(\"Horodecki 3x3 态 2-extendible?\", is_2_extendible(rho_horo, dA, dB))"
   ]
  },
  {
   "cell_type": "markdown",
   "id": "747d01c2",
   "metadata": {},
   "source": []
  },
  {
   "cell_type": "markdown",
   "id": "dc674243",
   "metadata": {},
   "source": [
    "## Classical vs Quantum Correlations: Definitions and Mathematical Equivalence\n",
    "\n",
    "### 1. What is \"Correlation\"?\n",
    "Correlation describes whether the measurement outcomes of two subsystems, A and B, are synchronized or related. In classical systems, correlations can be explained by pre-agreed strategies or random sampling. In quantum systems, entanglement leads to correlations that cannot be simulated by any classical means and are only explained by quantum mechanics.\n",
    "\n",
    "### 2. Classical Correlation (No Entanglement)\n",
    "**Example:**\n",
    "$$ \\rho = \\frac{1}{2} \\left( |00\\rangle\\langle 00| + |11\\rangle\\langle 11| \\right) $$\n",
    "This is a separable state with no entanglement. Measuring A and B in the $z$-basis always yields the same result (both 0 or both 1), which can be explained by a pre-agreed strategy.\n",
    "\n",
    "#### Mathematical Definition (Classical Probability)\n",
    "Suppose there are two random variables $A$ and $B$ with joint probability distribution $P(a, b)$. The expectation value of their correlation is:\n",
    "$$ \\langle AB \\rangle_{\\text{classical}} = \\sum_{a, b} a b P(a, b) $$\n",
    "If $A$ and $B$ are independent, $P(a, b) = P_A(a) P_B(b)$, so $\\langle AB \\rangle = \\langle A \\rangle \\langle B \\rangle$.\n",
    "\n",
    "### 3. Quantum Correlation (Entanglement)\n",
    "**Example:**\n",
    "$$ |\\Phi^+\\rangle = \\frac{1}{\\sqrt{2}} (|00\\rangle + |11\\rangle) $$\n",
    "This is the famous Bell state, which is entangled. Measuring A and B in the $z$-basis also yields synchronized results, but if you change the measurement basis (e.g., $x$-basis), the outcomes remain synchronized. This cannot be explained by any classical pre-agreement. Bell inequality violations show that the correlations exceed classical limits—this is quantum correlation, unique to entangled states.\n",
    "\n",
    "#### Mathematical Definition (Quantum Separable State)\n",
    "A separable state:\n",
    "$$ \\rho = \\sum_i p_i \\rho_A^{(i)} \\otimes \\rho_B^{(i)} $$\n",
    "For observables $A$ and $B$, the expectation value is:\n",
    "$$ \\langle A \\otimes B \\rangle_\\rho = \\mathrm{Tr}[\\rho (A \\otimes B)] = \\sum_i p_i \\mathrm{Tr}[\\rho_A^{(i)} A] \\mathrm{Tr}[\\rho_B^{(i)} B] $$\n",
    "This is:\n",
    "$$ \\langle A \\otimes B \\rangle_\\rho = \\sum_i p_i \\langle A \\rangle_{\\rho_A^{(i)}} \\langle B \\rangle_{\\rho_B^{(i)}} $$\n",
    "\n",
    "### 4. Equivalence and Distinction\n",
    "The above formula is mathematically identical to a classical probability mixture: $p_i$ is the probability of sampling, $\\langle A \\rangle_{\\rho_A^{(i)}}$ and $\\langle B \\rangle_{\\rho_B^{(i)}}$ are the averages for each subsystem. Thus, all correlations in separable states can be simulated by classical probability models—there is no \"beyond classical\" quantum correlation.\n",
    "\n",
    "In contrast, entangled states exhibit correlations that cannot be explained by any classical model. For these states, measurements in different bases can still yield synchronized outcomes, and violations of Bell inequalities demonstrate the presence of genuine quantum correlations.\n",
    "\n",
    "### 5. Intuitive Analogy\n",
    "- **Classical correlation:** Like two people each holding a slip of paper with \"0\" or \"1\" written on it, pre-agreed. No matter how you ask, they can only answer according to the paper.\n",
    "- **Quantum correlation:** No slips of paper, but no matter how you ask (even if you decide at the last moment), their answers are mysteriously synchronized, beyond any classical agreement—only quantum mechanics can explain this.\n",
    "\n",
    "### 6. Mathematical Expression of Correlation\n",
    "In quantum information, the most common mathematical definition of correlation between two subsystems is the expectation value $\\langle A \\otimes B \\rangle$:\n",
    "$$ \\langle A \\otimes B \\rangle = \\mathrm{Tr}[\\rho (A \\otimes B)] $$\n",
    "where $\\rho$ is the two-body density matrix, $A$ and $B$ are observables for each subsystem, and $A \\otimes B$ means measuring both simultaneously.\n",
    "\n",
    "If A and B are independent, $\\langle A \\otimes B \\rangle = \\langle A \\rangle \\langle B \\rangle$. If there is correlation, $\\langle A \\otimes B \\rangle$ differs from $\\langle A \\rangle \\langle B \\rangle$.\n",
    "A common example: $A = Z$, $B = Z$, so $\\langle Z \\otimes Z \\rangle$ measures $z$-axis correlation; $A = X$, $B = X$ gives $x$-axis correlation.\n",
    "You can also define the correlation coefficient: $C_{AB} = \\langle A \\otimes B \\rangle - \\langle A \\rangle \\langle B \\rangle$, which measures the pure correlation after subtracting the individual averages."
   ]
  },
  {
   "cell_type": "markdown",
   "id": "e238f664",
   "metadata": {},
   "source": []
  },
  {
   "cell_type": "code",
   "execution_count": 1,
   "id": "425c2991",
   "metadata": {},
   "outputs": [
    {
     "name": "stdout",
     "output_type": "stream",
     "text": [
      "=== Measure the Z-axis correlation <Z⊗Z> ===\n",
      "Separable state: 1.0\n",
      "Entangled state  : 0.9999999999999998\n",
      "\n",
      "=== Measure the X-axis correlation <X⊗X> ===\n",
      "Separable state: 0.0\n",
      "Entangled state  : 0.9999999999999998\n"
     ]
    }
   ],
   "source": [
    "import numpy as np\n",
    "\n",
    "# Pauli matrices\n",
    "I = np.eye(2)\n",
    "X = np.array([[0,1],[1,0]])\n",
    "Z = np.array([[1,0],[0,-1]])\n",
    "\n",
    "# Projection operators\n",
    "# |0><0|, |1><1|, |+><+|, |-><-> (where |+> = (|0> + |1>)/sqrt(2), |-> = (|0> - |1>)/sqrt(2))\n",
    "P0 = np.array([[1,0],[0,0]])\n",
    "P1 = np.array([[0,0],[0,1]])\n",
    "Pp = np.array([[0.5,0.5],[0.5,0.5]])   # |+><+|\n",
    "Pm = np.array([[0.5,-0.5],[-0.5,0.5]]) # |-><-|\n",
    "\n",
    "# Separable state\n",
    "# ρ_sep = 0.5 * |0><0| ⊗ |\n",
    "rho_sep = 0.5 * np.kron(P0, P0) + 0.5 * np.kron(P1, P1)\n",
    "# Bell State\n",
    "# ρ_ent = |ψ><ψ| where |ψ> = (|00> + |11>)/sqrt(2)\n",
    "psi_ent = (np.kron([1,0],[1,0]) + np.kron([0,1],[0,1]))/np.sqrt(2)\n",
    "rho_ent = np.outer(psi_ent, psi_ent.conj())\n",
    "\n",
    "def correl(rho, A, B):\n",
    "    # Compute <A⊗B>\n",
    "    return np.trace(rho @ np.kron(A, B)).real\n",
    "\n",
    "print(\"=== Measure the Z-axis correlation <Z⊗Z> ===\")\n",
    "print(\"Separable state:\", correl(rho_sep, Z, Z))\n",
    "print(\"Entangled state  :\", correl(rho_ent, Z, Z))\n",
    "\n",
    "print(\"\\n=== Measure the X-axis correlation <X⊗X> ===\")\n",
    "print(\"Separable state:\", correl(rho_sep, X, X))\n",
    "print(\"Entangled state  :\", correl(rho_ent, X, X))"
   ]
  }
 ],
 "metadata": {
  "kernelspec": {
   "display_name": "qiskit-env",
   "language": "python",
   "name": "python3"
  },
  "language_info": {
   "codemirror_mode": {
    "name": "ipython",
    "version": 3
   },
   "file_extension": ".py",
   "mimetype": "text/x-python",
   "name": "python",
   "nbconvert_exporter": "python",
   "pygments_lexer": "ipython3",
   "version": "3.10.18"
  }
 },
 "nbformat": 4,
 "nbformat_minor": 5
}
